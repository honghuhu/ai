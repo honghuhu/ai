{
  "nbformat": 4,
  "nbformat_minor": 0,
  "metadata": {
    "colab": {
      "name": "colab-terminal.ipynb",
      "provenance": [],
      "collapsed_sections": [],
      "mount_file_id": "1yEMDnrFtp00aoJdC94MF8mKLaqQpFeBZ",
      "authorship_tag": "ABX9TyP0a1GuwtUsgvgN3Ski6MGJ",
      "include_colab_link": true
    },
    "kernelspec": {
      "display_name": "Python 3",
      "name": "python3"
    }
  },
  "cells": [
    {
      "cell_type": "markdown",
      "metadata": {
        "id": "view-in-github",
        "colab_type": "text"
      },
      "source": [
        "<a href=\"https://colab.research.google.com/github/honghuhu/explore/blob/ai/explore/tools/colab_terminal.ipynb\" target=\"_parent\"><img src=\"https://colab.research.google.com/assets/colab-badge.svg\" alt=\"Open In Colab\"/></a>"
      ]
    },
    {
      "cell_type": "markdown",
      "metadata": {
        "id": "EXfUQ021Vl5N"
      },
      "source": [
        "# 此文件是用来使用Colab工具提交代码到GitHub仓库的"
      ]
    },
    {
      "cell_type": "code",
      "metadata": {
        "id": "B04kTQApuebF"
      },
      "source": [
        "import os\n",
        "os.chdir(\"/content/drive/MyDrive/Colab Notebooks/explore\")\n",
        "# !ln -s /content/drive/MyDrive/.ssh /root/.ssh\n",
        "!cp -r /content/drive/MyDrive/.ssh /root/"
      ],
      "execution_count": 8,
      "outputs": []
    },
    {
      "cell_type": "code",
      "metadata": {
        "colab": {
          "base_uri": "https://localhost:8080/"
        },
        "id": "qIdXk4G8mOgJ",
        "outputId": "f473eee7-5a21-43ea-f96d-41bd78e5b2c0"
      },
      "source": [
        "!sudo git push --set-upstream origin ai"
      ],
      "execution_count": 25,
      "outputs": [
        {
          "output_type": "stream",
          "text": [
            "Host key verification failed.\r\n",
            "fatal: Could not read from remote repository.\n",
            "\n",
            "Please make sure you have the correct access rights\n",
            "and the repository exists.\n"
          ],
          "name": "stdout"
        }
      ]
    },
    {
      "cell_type": "code",
      "metadata": {
        "id": "t8e3ad0Mk6jt",
        "colab": {
          "base_uri": "https://localhost:8080/"
        },
        "outputId": "274d4998-15e5-4248-8e86-eaf7d5d7fa9e"
      },
      "source": [
        "commitMessage = input(\"commit message: \")\n",
        "\n",
        "!git config --global user.email \"yxuiang.wang@gmail.com\"\n",
        "!git config --global user.name \"yuxiang.wang\"\n",
        "!git add .\n",
        "!git commit -m '$commitMessage'\n",
        "!git push"
      ],
      "execution_count": null,
      "outputs": [
        {
          "output_type": "stream",
          "text": [
            "commit message: upload colab script\n",
            "[ai 924fdf0] upload colab script\n",
            " 1 file changed, 1 insertion(+), 1 deletion(-)\n",
            " rewrite explore/tools/colab-terminal.ipynb (94%)\n",
            "fatal: The current branch ai has no upstream branch.\n",
            "To push the current branch and set the remote as upstream, use\n",
            "\n",
            "    git push --set-upstream origin ai\n",
            "\n"
          ],
          "name": "stdout"
        }
      ]
    },
    {
      "cell_type": "markdown",
      "metadata": {
        "id": "AFWtg5zgTcV9"
      },
      "source": [
        "## git 其它命令"
      ]
    },
    {
      "cell_type": "code",
      "metadata": {
        "colab": {
          "base_uri": "https://localhost:8080/"
        },
        "id": "kWm7AZreeP-A",
        "outputId": "7946b684-8a9a-4cf9-83b8-fb2c73698325"
      },
      "source": [
        "!git pull"
      ],
      "execution_count": 18,
      "outputs": [
        {
          "output_type": "stream",
          "text": [
            "Host key verification failed.\r\n",
            "fatal: Could not read from remote repository.\n",
            "\n",
            "Please make sure you have the correct access rights\n",
            "and the repository exists.\n"
          ],
          "name": "stdout"
        }
      ]
    },
    {
      "cell_type": "code",
      "metadata": {
        "colab": {
          "base_uri": "https://localhost:8080/"
        },
        "id": "dzi1h99eePC3",
        "outputId": "832831b8-fe52-4959-a8ba-e9cbcbb53d1f"
      },
      "source": [
        "!git remote -v"
      ],
      "execution_count": 19,
      "outputs": [
        {
          "output_type": "stream",
          "text": [
            "origin\tgit@github.com:honghuhu/explore.git (fetch)\n",
            "origin\tgit@github.com:honghuhu/explore.git (push)\n"
          ],
          "name": "stdout"
        }
      ]
    },
    {
      "cell_type": "code",
      "metadata": {
        "id": "nEWGBDMMwuRf"
      },
      "source": [
        "!git remote rm origin\n",
        "!git remote add origin git@github.com:honghuhu/explore.git"
      ],
      "execution_count": null,
      "outputs": []
    },
    {
      "cell_type": "code",
      "metadata": {
        "colab": {
          "base_uri": "https://localhost:8080/"
        },
        "id": "JDW9dWnSTtUY",
        "outputId": "126f12af-3368-4e2b-ce39-ea41d0953c04"
      },
      "source": [
        "!git status"
      ],
      "execution_count": 20,
      "outputs": [
        {
          "output_type": "stream",
          "text": [
            "On branch ai\n",
            "Changes not staged for commit:\n",
            "  (use \"git add <file>...\" to update what will be committed)\n",
            "  (use \"git checkout -- <file>...\" to discard changes in working directory)\n",
            "\n",
            "\t\u001b[31mmodified:   explore/tools/colab-terminal.ipynb\u001b[m\n",
            "\n",
            "no changes added to commit (use \"git add\" and/or \"git commit -a\")\n"
          ],
          "name": "stdout"
        }
      ]
    },
    {
      "cell_type": "code",
      "metadata": {
        "id": "PW71ju8KBavz",
        "colab": {
          "base_uri": "https://localhost:8080/"
        },
        "outputId": "fae1775b-b056-40ff-802b-ff59e117114e"
      },
      "source": [
        "filePath = input(\"file path: \") ## 恢复当前文件\n",
        "!git checkout -- $filePath"
      ],
      "execution_count": null,
      "outputs": [
        {
          "output_type": "stream",
          "text": [
            "file path: ai/01_first_artificial_intelligence_program/first_artificial_intelligence_program.ipynb\n"
          ],
          "name": "stdout"
        }
      ]
    },
    {
      "cell_type": "code",
      "metadata": {
        "colab": {
          "base_uri": "https://localhost:8080/"
        },
        "id": "CvAWwTvOtNNa",
        "outputId": "8e6ac262-8bd0-4995-ce66-04782a2ef466"
      },
      "source": [
        "### 克隆算法项目\n",
        "import os\n",
        "os.chdir(\"/content\")\n",
        "!git clone git@github.com:honghuhu/explore.git\n",
        "### 切换到 ai分支\n",
        "!cd explore\n",
        "!git checkout -b ai origin/ai"
      ],
      "execution_count": 29,
      "outputs": [
        {
          "output_type": "stream",
          "text": [
            "Cloning into 'explore'...\n",
            "Host key verification failed.\r\n",
            "fatal: Could not read from remote repository.\n",
            "\n",
            "Please make sure you have the correct access rights\n",
            "and the repository exists.\n",
            "/bin/bash: line 0: cd: explore: No such file or directory\n",
            "fatal: not a git repository (or any of the parent directories): .git\n"
          ],
          "name": "stdout"
        }
      ]
    },
    {
      "cell_type": "markdown",
      "metadata": {
        "id": "d9NQ4RfGQ1Hv"
      },
      "source": [
        "## 以下命令是用来设置 github 通过 ssh 上传代码\n"
      ]
    },
    {
      "cell_type": "code",
      "metadata": {
        "colab": {
          "base_uri": "https://localhost:8080/"
        },
        "id": "ipfRqrD8JzAq",
        "outputId": "dd338d8d-1e87-4da4-cccb-e302b7c83cbb"
      },
      "source": [
        "# 生成 SSH 公钥\n",
        "!ssh-keygen -t rsa -b 4096 -C 'Grep'\n",
        "# 拷贝 SSH 公钥到谷歌硬盘\n",
        "!cp -r /root/.ssh /content/drive/MyDrive/\n",
        "# 软链接到当前用户\n",
        "#!ln -s /content/drive/MyDrive/.ssh /root/.ssh"
      ],
      "execution_count": 26,
      "outputs": [
        {
          "output_type": "stream",
          "text": [
            "Generating public/private rsa key pair.\n",
            "Enter file in which to save the key (/root/.ssh/id_rsa): \n",
            "/root/.ssh/id_rsa already exists.\n",
            "Overwrite (y/n)? y\n",
            "Enter passphrase (empty for no passphrase): y\n",
            "Enter same passphrase again: \n",
            "Passphrases do not match.  Try again.\n",
            "Enter passphrase (empty for no passphrase): \n",
            "Enter same passphrase again: \n",
            "Your identification has been saved in /root/.ssh/id_rsa.\n",
            "Your public key has been saved in /root/.ssh/id_rsa.pub.\n",
            "The key fingerprint is:\n",
            "SHA256:Z5Nc3i+TnyIugsZq56PFy/w/aLL267XTS9HF3WH9Ms4 Grep\n",
            "The key's randomart image is:\n",
            "+---[RSA 4096]----+\n",
            "|               o.|\n",
            "|              o =|\n",
            "|            .  o+|\n",
            "|         . +..+ .|\n",
            "|        S *..+.o |\n",
            "|    .    o .. Eo |\n",
            "|    .o. ....  + .|\n",
            "|   .+O.+.+oo . +.|\n",
            "|  .oB*O=+o=oo ...|\n",
            "+----[SHA256]-----+\n"
          ],
          "name": "stdout"
        }
      ]
    },
    {
      "cell_type": "code",
      "metadata": {
        "colab": {
          "base_uri": "https://localhost:8080/"
        },
        "id": "AvxKL339OAGX",
        "outputId": "048d0abb-e008-4765-9489-4f05b77c53b7"
      },
      "source": [
        "# 查看当前目录软链接\n",
        "!ls -al /root/.ssh\n",
        "# 查看公钥\n",
        "!cat /root/.ssh/id_rsa.pub"
      ],
      "execution_count": 23,
      "outputs": [
        {
          "output_type": "stream",
          "text": [
            "total 20\n",
            "drwx------ 2 root root 4096 Aug 29 12:23 .\n",
            "drwx------ 1 root root 4096 Aug 29 12:23 ..\n",
            "-rw------- 1 root root 3247 Aug 29 12:27 id_rsa\n",
            "-rw------- 1 root root  730 Aug 29 12:27 id_rsa.pub\n",
            "ssh-rsa AAAAB3NzaC1yc2EAAAADAQABAAACAQC8B8kTaiplGHuTFWYWPBJO8xMG0x4OZPsiNcmb9wz31s2Sr7dUlyw1IjVc3U54h66huFtXFl3MQXKzP4LeJv9fACHWiJdhS+DX0XwhCqB5FwEY11d7PA79e6FyMhuA3CdJu9mUWi3UMnblkh3f6MdFobG5yU829jXwvY7UYYvWUrY0s8rm+SuV5rKV+fZzxcKf9JYH0uD37PJ0zCVB/ApaQA4YL7WPI/vZbJvtfj7nkotTCdQXj6FOLhnVynfzJ26/a/7RVA24mdv7GUl2omwMZb8UBitz6rb3+kBuwLqbYGFQFyWecZp1LZqpb80EXgIeVzmYMYnvj9HHbbm9wuMvoMen9I+kXQI415mLHPqtRYm79jqR5/3YaFFVXuDlmaL45IVUg0WT9t5PhTMA+8vC6OfGMGRfry4DDqGjrmw0g+IMy6cNcfFwEy+fb3CXNWvq29iFjxd8moMz7RuTZAZQGs4Mjc1YwcAfEvcYH3ZpRN36gQ78wcDMkgTFaOq6D5J5HmX2c0dNeAvxca7S3d6nJBBkmDmBdCgtR3u04xMoYoeQrm7RNPYRl1pzmRoUV+CVGHP3XxVJMRBIm+RIzd8qq5O/LGghPg2g3bxwTJ7ZReqPmD9G+AyYhsjCCoZu1+WqMuVrp32ZoxLTVORU5JZEKmkKS/vEGrPx4HUkeSz9ew== Grep\n"
          ],
          "name": "stdout"
        }
      ]
    },
    {
      "cell_type": "code",
      "metadata": {
        "colab": {
          "base_uri": "https://localhost:8080/"
        },
        "id": "diQbuXCt8K0Q",
        "outputId": "e3b76a28-6221-45ec-b9a8-6a57352d0322"
      },
      "source": [
        "!ssh -T git@github.com"
      ],
      "execution_count": 30,
      "outputs": [
        {
          "output_type": "stream",
          "text": [
            "Host key verification failed.\r\n"
          ],
          "name": "stdout"
        }
      ]
    }
  ]
}