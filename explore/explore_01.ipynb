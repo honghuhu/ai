{
 "cells": [
  {
   "cell_type": "code",
   "execution_count": null,
   "metadata": {},
   "outputs": [
    {
     "name": "stderr",
     "output_type": "stream",
     "text": [
      "MovieWriter imagemagick unavailable. Trying to use pillow instead.\n"
     ]
    }
   ],
   "source": [
    "import matplotlib as mpl\n",
    "# 在服务器使用matplotlib的时候，可能是因为没有装图形化和显示相关的包的原因，总是会出现backend相关的错误\n",
    "# http://vra.github.io/2017/06/13/mpl-backend/\n",
    "mpl.use('Agg')\n",
    "\n",
    "import numpy as np\n",
    "import matplotlib.pyplot as plt\n",
    "from matplotlib import animation\n",
    "\n",
    "%matplotlib inline \n",
    "\"\"\"\n",
    "animation example 2\n",
    "author: Kiterun\n",
    "\"\"\"\n",
    "\n",
    "fig, ax = plt.subplots()\n",
    "x = np.linspace(0, 2*np.pi, 200)\n",
    "y = np.sin(x)\n",
    "l = ax.plot(x, y)\n",
    "dot, = ax.plot([], [], 'ro')\n",
    "\n",
    "def init():\n",
    "    ax.set_xlim(0, 2*np.pi)\n",
    "    ax.set_ylim(-1, 1)\n",
    "    return l\n",
    "\n",
    "def gen_dot():\n",
    "    for i in np.linspace(0, 2*np.pi, 200):\n",
    "        newdot = [i, np.sin(i)]\n",
    "        yield newdot\n",
    "\n",
    "def update_dot(newd):\n",
    "    dot.set_data(newd[0], newd[1])\n",
    "    return dot,\n",
    "\n",
    "ani = animation.FuncAnimation(fig, update_dot, frames = gen_dot, interval = 100, init_func=init)\n",
    "ani.save('sin_dot.gif', writer='imagemagick', fps=30)\n",
    "\n",
    "plt.show()"
   ]
  },
  {
   "cell_type": "code",
   "execution_count": null,
   "metadata": {},
   "outputs": [],
   "source": []
  }
 ],
 "metadata": {
  "kernelspec": {
   "display_name": "Python 3",
   "language": "python",
   "name": "python3"
  },
  "language_info": {
   "codemirror_mode": {
    "name": "ipython",
    "version": 3
   },
   "file_extension": ".py",
   "mimetype": "text/x-python",
   "name": "python",
   "nbconvert_exporter": "python",
   "pygments_lexer": "ipython3",
   "version": "3.5.2"
  }
 },
 "nbformat": 4,
 "nbformat_minor": 4
}
