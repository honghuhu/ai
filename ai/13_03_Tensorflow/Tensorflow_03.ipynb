{
 "cells": [
  {
   "cell_type": "markdown",
   "metadata": {},
   "source": [
    "激动人心的时刻来了！本篇文章我带领大家使用tensorflow框架来构建一个完整的人工智能程序。这个程序可以识别手语！这样就可以帮助聋哑人士和其他人能更好的进行交流了！"
   ]
  },
  {
   "cell_type": "code",
   "execution_count": 6,
   "metadata": {},
   "outputs": [],
   "source": [
    "import math\n",
    "import numpy as np\n",
    "import h5py\n",
    "import matplotlib.pyplot as plt\n",
    "import tensorflow as tf\n",
    "from tensorflow.python.framework import ops\n",
    "from tf_utils import load_dataset, random_mini_batches, convert_to_one_hot, predict\n",
    "\n",
    "%matplotlib inline\n",
    "np.random.seed(1)"
   ]
  },
  {
   "cell_type": "markdown",
   "metadata": {},
   "source": [
    "通过前面几篇文章的学习，我们明白了tensorflow程序大致有两个大步骤构成：\n",
    "\n",
    "- 创建/设计一些操作，这些操作构成一个计算图\n",
    "- 执行前面设计的计算图\n",
    "\n",
    "在用tensorflow构建一个完整的人工智能程序时，我们会遇到各种问题。下面我带领大家来一一解决它们！\n",
    "\n",
    "### 手语数据库\n",
    "\n",
    "为了让程序能识别手语，首先需要解决的问题就是要构建一个手语数据库来让AI程序进行学习。本例中的数据库就是我们自己拍摄的。拍摄了很多，但是本例中我们只取了一部分数据，因为数据量太大的话，训练的时间就太久，不适合教学目的。\n",
    "\n",
    "- **训练数据集**: 1080张图 (64 * 64像素)，它们表示了0到5的数字。每一个数字有180张不同的图像，这些图像虽然都表示同一个数字，但是它们都稍微有所不同，或者是展示人的手不同。\n",
    "- **测试数据集**: 120张图 (64 * 64像素)，它们当然也表示0到5的数字。 每一个数字有20张不同的图像。\n",
    "\n",
    "本例的数据集中只有5个手势，完整的数据集中有很多手势。\n",
    "\n",
    "下面给出了每一个数字所对应的一个手势图。这是还没有缩放成64*64像素的原图。\n",
    "<img src=\"images/hands.png\" style=\"width:800px;height:350px;\"><caption><center> <u><font color='purple'> <b>图 1</b></u><font color='purple'>: 手语数据库<br> <font color='black'> </center>\n",
    "\n",
    "\n",
    "加载数据集的代码我已经帮大家在工具库中实现了。下面我们调用它来加载这些手语数据集。"
   ]
  },
  {
   "cell_type": "code",
   "execution_count": 7,
   "metadata": {},
   "outputs": [],
   "source": [
    "X_train_orig, Y_train_orig, X_test_orig, Y_test_orig, classes = load_dataset()"
   ]
  },
  {
   "cell_type": "markdown",
   "metadata": {},
   "source": [
    "下面的代码是从数据集中挑选一个元素来展示，展示了图片以及它对应的标签。index为0就表示取第一个元素，这个元素的图像表示的手势是5。你也可以改变index的值，来展示展示其它元素。"
   ]
  },
  {
   "cell_type": "code",
   "execution_count": 8,
   "metadata": {},
   "outputs": [
    {
     "name": "stdout",
     "output_type": "stream",
     "text": [
      "y = 5\n"
     ]
    },
    {
     "data": {
      "image/png": "[encoded data removed]",
      "text/plain": [
       "<Figure size 432x288 with 1 Axes>"
      ]
     },
     "metadata": {
      "needs_background": "light"
     },
     "output_type": "display_data"
    }
   ],
   "source": [
    "index = 0\n",
    "plt.imshow(X_train_orig[index])\n",
    "print (\"y = \" + str(np.squeeze(Y_train_orig[:, index])))"
   ]
  },
  {
   "cell_type": "markdown",
   "metadata": {},
   "source": [
    "如我们教程中前面学到的知识一样，我们首先将图像数据集进行扁平化处理，然后再除以255来进行一个简单的归一化处理。然后，根据我们上一篇文章学到的知识，我们用tensorflow来对标签进行one hot编码。"
   ]
  },
  {
   "cell_type": "code",
   "execution_count": 9,
   "metadata": {},
   "outputs": [
    {
     "name": "stdout",
     "output_type": "stream",
     "text": [
      "number of training examples = 1080\n",
      "number of test examples = 120\n",
      "X_train shape: (12288, 1080)\n",
      "Y_train shape: (6, 1080)\n",
      "X_test shape: (12288, 120)\n",
      "Y_test shape: (6, 120)\n"
     ]
    }
   ],
   "source": [
    "# 扁平化\n",
    "X_train_flatten = X_train_orig.reshape(X_train_orig.shape[0], -1).T\n",
    "X_test_flatten = X_test_orig.reshape(X_test_orig.shape[0], -1).T\n",
    "# 简单的归一化\n",
    "X_train = X_train_flatten / 255.\n",
    "X_test = X_test_flatten / 255.\n",
    "# one hot编码\n",
    "Y_train = convert_to_one_hot(Y_train_orig, 6)\n",
    "Y_test = convert_to_one_hot(Y_test_orig, 6)\n",
    "\n",
    "print(\"number of training examples = \" + str(X_train.shape[1]))\n",
    "print(\"number of test examples = \" + str(X_test.shape[1]))\n",
    "print(\"X_train shape: \" + str(X_train.shape))\n",
    "print(\"Y_train shape: \" + str(Y_train.shape))\n",
    "print(\"X_test shape: \" + str(X_test.shape))\n",
    "print(\"Y_test shape: \" + str(Y_test.shape))"
   ]
  },
  {
   "cell_type": "markdown",
   "metadata": {},
   "source": [
    "**注意** 12288是由$64 \\times 64 \\times 3$得到的. 因为每个图像都是64 * 64个像素，再乘以3是因为每个像素都是由RGB红绿蓝3个颜色构成的。这些知识我在教程的《1.2.1 如何将数据输入到神经网络中》已经给大家介绍过了。"
   ]
  },
  {
   "cell_type": "markdown",
   "metadata": {},
   "source": [
    "**我们的目的**就是要构建一个人工智能程序来学习上面的数据，让这个AI程序能够很准确地识别0到5的手语。为了实现这个目的，我们将用tensorflow来构建一个神经网络模型，这个模型与我们之前用纯python构建的很相似。这样一来，有助于大家来对比纯python实现和tensorflow实现的区别。\n",
    "\n",
    "**模型**的大致结构是*LINEAR -> RELU -> LINEAR -> RELU -> LINEAR -> SOFTMAX*. 这里我们用到了softmax层，它取代了我们之前一直用着的sigmoid层。"
   ]
  },
  {
   "cell_type": "markdown",
   "metadata": {},
   "source": [
    "### 创建占位符\n",
    "\n",
    "第一个任务就是要为`X`和`Y`创建相应的占位符。这样一来，在后面我们执行计算图时，就可以把训练集的数据填充到tensorflow计算图中了。"
   ]
  },
  {
   "cell_type": "code",
   "execution_count": 10,
   "metadata": {},
   "outputs": [],
   "source": [
    "def create_placeholders(n_x, n_y):\n",
    "    \"\"\"\n",
    "    参数:\n",
    "    n_x -- 图片向量的大小，本例中是12288\n",
    "    n_y -- 类别数量，因为是0到5的数字，所以数量是6\n",
    "    \"\"\"\n",
    "\n",
    "    ### 注意下面代码中，样本数量的位置我们填写的是None，因为在执行训练时，用到的样本数量是不同的。\n",
    "    X = tf.placeholder(tf.float32, [n_x, None], name=\"X\")\n",
    "    Y = tf.placeholder(tf.float32, [n_y, None], name=\"Y\")\n",
    "    \n",
    "    return X, Y"
   ]
  },
  {
   "cell_type": "code",
   "execution_count": 11,
   "metadata": {},
   "outputs": [
    {
     "name": "stdout",
     "output_type": "stream",
     "text": [
      "X = Tensor(\"X:0\", shape=(12288, ?), dtype=float32)\n",
      "Y = Tensor(\"Y:0\", shape=(6, ?), dtype=float32)\n"
     ]
    }
   ],
   "source": [
    "X, Y = create_placeholders(12288, 6)\n",
    "print(\"X = \" + str(X))\n",
    "print(\"Y = \" + str(Y))"
   ]
  },
  {
   "cell_type": "markdown",
   "metadata": {},
   "source": [
    "### 初始化参数\n",
    "\n",
    "第二个任务就是用tensorflow来初始化神经网络模型的参数w和b。"
   ]
  },
  {
   "cell_type": "code",
   "execution_count": 12,
   "metadata": {},
   "outputs": [],
   "source": [
    "def initialize_parameters():\n",
    "    \n",
    "    # 将tensorflow中的随机数种子设为1，这样可以确保我们每次执行代码时随机数都是一样的。\n",
    "    # 如果随机数不一样，那么我执行代码的结果与你们执行的结果就会不一样。\n",
    "    tf.set_random_seed(1)  \n",
    "        \n",
    "    # 我们用tensorflow内置的xavier_initializer函数来进行w的初始化。\n",
    "    # 教程前面我曾专门花了一篇文章来给大家介绍参数的初始化。\n",
    "    # 初始化步骤非常重要，好的初始化可以让神经网络学得很快。\n",
    "    # 之前我们用纯python时，为了实现高质量的参数初始化，需要写不少代码。\n",
    "    # 而tensorflow已经给我们实现了高效的函数，我们只需要用一行代码调用它就可以对w进行初始化了。\n",
    "    W1 = tf.get_variable(\"W1\", [25, 12288], initializer = tf.contrib.layers.xavier_initializer(seed=1))\n",
    "    # 我们将b初始化为0\n",
    "    b1 = tf.get_variable(\"b1\", [25, 1], initializer = tf.zeros_initializer())\n",
    "    W2 = tf.get_variable(\"W2\", [12, 25], initializer = tf.contrib.layers.xavier_initializer(seed=1))\n",
    "    b2 = tf.get_variable(\"b2\", [12, 1], initializer = tf.zeros_initializer())\n",
    "    W3 = tf.get_variable(\"W3\", [6, 12], initializer = tf.contrib.layers.xavier_initializer(seed=1))\n",
    "    b3 = tf.get_variable(\"b3\", [6, 1], initializer = tf.zeros_initializer())\n",
    "\n",
    "    parameters = {\"W1\": W1,\n",
    "                  \"b1\": b1,\n",
    "                  \"W2\": W2,\n",
    "                  \"b2\": b2,\n",
    "                  \"W3\": W3,\n",
    "                  \"b3\": b3}\n",
    "    \n",
    "    return parameters"
   ]
  },
  {
   "cell_type": "code",
   "execution_count": 13,
   "metadata": {},
   "outputs": [
    {
     "name": "stdout",
     "output_type": "stream",
     "text": [
      "W1 = <tf.Variable 'W1:0' shape=(25, 12288) dtype=float32_ref>\n",
      "b1 = <tf.Variable 'b1:0' shape=(25, 1) dtype=float32_ref>\n",
      "W2 = <tf.Variable 'W2:0' shape=(12, 25) dtype=float32_ref>\n",
      "b2 = <tf.Variable 'b2:0' shape=(12, 1) dtype=float32_ref>\n"
     ]
    }
   ],
   "source": [
    "tf.reset_default_graph()\n",
    "with tf.Session() as sess:\n",
    "    parameters = initialize_parameters()\n",
    "    print(\"W1 = \" + str(parameters[\"W1\"]))\n",
    "    print(\"b1 = \" + str(parameters[\"b1\"]))\n",
    "    print(\"W2 = \" + str(parameters[\"W2\"]))\n",
    "    print(\"b2 = \" + str(parameters[\"b2\"]))"
   ]
  },
  {
   "cell_type": "markdown",
   "metadata": {},
   "source": [
    "### 实现前向传播\n",
    "\n",
    "下面这个函数用tensorflow实现了神经网络的前向传播。"
   ]
  },
  {
   "cell_type": "code",
   "execution_count": 14,
   "metadata": {},
   "outputs": [],
   "source": [
    "def forward_propagation(X, parameters):\n",
    "    \n",
    "    W1 = parameters['W1']\n",
    "    b1 = parameters['b1']\n",
    "    W2 = parameters['W2']\n",
    "    b2 = parameters['b2']\n",
    "    W3 = parameters['W3']\n",
    "    b3 = parameters['b3']\n",
    "    \n",
    "    # 计算第一层的z\n",
    "    Z1 = tf.add(tf.matmul(W1, X), b1)   \n",
    "    # 在第一层的z上面执行relu激活操作，得到第一层的a。\n",
    "    # 注意，tensorflow中已经帮我们实现了relu函数。\n",
    "    # 之前是我们自己写不少python代码才能实现relu操作的。\n",
    "    A1 = tf.nn.relu(Z1)                                   \n",
    "    Z2 = tf.add(tf.matmul(W2, A1), b2)                     \n",
    "    A2 = tf.nn.relu(Z2)                                    \n",
    "    Z3 = tf.add(tf.matmul(W3, A2), b3)                     \n",
    "    \n",
    "    # 学得好的同学可能会觉得奇怪，为什么这里不计算A3呢？\n",
    "    # 因为这也是tensorflow的一个特性，它会在计算成本函数时顺带把a3给我们计算了，\n",
    "    # 所以前向传播中我们只需要计算Z3就可以了。\n",
    "    return Z3"
   ]
  },
  {
   "cell_type": "code",
   "execution_count": 15,
   "metadata": {
    "scrolled": true
   },
   "outputs": [
    {
     "name": "stdout",
     "output_type": "stream",
     "text": [
      "Z3 = Tensor(\"Add_2:0\", shape=(6, ?), dtype=float32)\n"
     ]
    }
   ],
   "source": [
    "tf.reset_default_graph()\n",
    "\n",
    "with tf.Session() as sess:\n",
    "    X, Y = create_placeholders(12288, 6)\n",
    "    parameters = initialize_parameters()\n",
    "    Z3 = forward_propagation(X, parameters)\n",
    "    print(\"Z3 = \" + str(Z3))"
   ]
  },
  {
   "cell_type": "markdown",
   "metadata": {},
   "source": [
    "我们在用纯python时，前向传播会缓存一些数据，好便于后面执行反向传播计算。但是这里为什么没有缓存数据呢？因为这也是tensorflow的一个特性，在下面我们介绍反向传播时你就明白了！"
   ]
  },
  {
   "cell_type": "markdown",
   "metadata": {},
   "source": [
    "### 计算cost成本\n",
    "\n",
    "前一篇文章已经给大家介绍了如何使用下面的代码来计算神经网络的cost成本:\n",
    "```python\n",
    "tf.reduce_mean(tf.nn.softmax_cross_entropy_with_logits(logits = ..., labels = ...))\n",
    "```\n",
    "- \"`logits`\"是最后一层输出的z，\"`labels`\"是真实标签，在本例中它们分别为Z3和Y。\n",
    "- `tf.reduce_mean`是获取张量中所有元素的平均值，这里是指每个样本的平均值"
   ]
  },
  {
   "cell_type": "code",
   "execution_count": 16,
   "metadata": {},
   "outputs": [],
   "source": [
    "def compute_cost(Z3, Y):\n",
    "    \n",
    "    # transpose表示装置操作，所以logits相当于Z3.T\n",
    "    logits = tf.transpose(Z3)\n",
    "    labels = tf.transpose(Y)\n",
    "    \n",
    "    cost = tf.reduce_mean(tf.nn.softmax_cross_entropy_with_logits(logits=logits, labels=labels))\n",
    "    \n",
    "    return cost"
   ]
  },
  {
   "cell_type": "code",
   "execution_count": 17,
   "metadata": {},
   "outputs": [
    {
     "name": "stdout",
     "output_type": "stream",
     "text": [
      "WARNING:tensorflow:From <ipython-input-16-02361d537e34>:7: softmax_cross_entropy_with_logits (from tensorflow.python.ops.nn_ops) is deprecated and will be removed in a future version.\n",
      "Instructions for updating:\n",
      "\n",
      "Future major versions of TensorFlow will allow gradients to flow\n",
      "into the labels input on backprop by default.\n",
      "\n",
      "See `tf.nn.softmax_cross_entropy_with_logits_v2`.\n",
      "\n",
      "cost = Tensor(\"Mean:0\", shape=(), dtype=float32)\n"
     ]
    }
   ],
   "source": [
    "tf.reset_default_graph()\n",
    "\n",
    "with tf.Session() as sess:\n",
    "    X, Y = create_placeholders(12288, 6)\n",
    "    parameters = initialize_parameters()\n",
    "    Z3 = forward_propagation(X, parameters)\n",
    "    cost = compute_cost(Z3, Y)\n",
    "    print(\"cost = \" + str(cost))"
   ]
  },
  {
   "cell_type": "markdown",
   "metadata": {},
   "source": [
    "### 反向传播和参数更新\n",
    "\n",
    "使用tensorflow框架，我们只需要一行代码就可以完成反向传播和参数更新了。可以用六个字来形容——好邪恶！好强大！\n",
    "\n",
    "我们只需要创建一个\"`optimizer`\" 实例对象。这个实例对象可以指定优化算法，例如可以指定是用标准的梯度下降算法还是用adam梯度下降算法；还需要指定学习率以及与哪一个cost函数合作。\n",
    "\n",
    "例如下面这行代码就创建了一个使用标准梯度下降算法的\"`optimizer`\" 实例对象:\n",
    "```python\n",
    "optimizer = tf.train.GradientDescentOptimizer(learning_rate = learning_rate).minimize(cost)\n",
    "```\n",
    "\n",
    "上面是定义了\"`optimizer`\" 操作，下面的语句是执行\"`optimizer`\" 操作:\n",
    "```python\n",
    "_ , c = sess.run([optimizer, cost], feed_dict={X: minibatch_X, Y: minibatch_Y})\n",
    "```\n",
    "\n",
    "这行代码执行时，会将子训练集minibatch_X和minibatch_Y传入到计算图中，计算图会使用指定的优化算法和cost成本函数来进行反向传播并在内部将参数给更新了。一切都发生在内部，表面风平浪静，内部却是波涛汹涌！\n",
    "\n",
    "**注意** 但我们在编码是，如果不需要某个返回值，我们就用`_`来代替。上面代码中我们就不需要返回的第一个结果，只需要第二个结果c，它代表了cost成本值。"
   ]
  },
  {
   "cell_type": "markdown",
   "metadata": {},
   "source": [
    "### 构建完整的模型\n",
    "\n",
    "好，上面我们将各个部件都介绍了，现在，我们将它们组合起来构建成一个完整的神经网络模型。"
   ]
  },
  {
   "cell_type": "code",
   "execution_count": 18,
   "metadata": {},
   "outputs": [],
   "source": [
    "def model(X_train, Y_train, X_test, Y_test, learning_rate = 0.0001,\n",
    "          num_epochs = 1500, minibatch_size = 32, print_cost = True):\n",
    "              \n",
    "    ops.reset_default_graph()# 将计算图返回到默认空状态\n",
    "    tf.set_random_seed(1) \n",
    "    seed = 3      \n",
    "    (n_x, m) = X_train.shape # (n_x: 特征数量, m : 训练集中的样本数)\n",
    "    n_y = Y_train.shape[0] \n",
    "    costs = []   \n",
    "    \n",
    "    # 创建占位符\n",
    "    X, Y = create_placeholders(n_x, n_y)\n",
    "\n",
    "    # 初始化参数\n",
    "    parameters = initialize_parameters()\n",
    "    \n",
    "    # 构建前向传播操作\n",
    "    Z3 = forward_propagation(X, parameters)\n",
    "    \n",
    "    # 构建成本计算操作\n",
    "    cost = compute_cost(Z3, Y)\n",
    "    \n",
    "    # 构建反向传播，为反向传播指定优化算法和学习率以及成本函数，这里我们使用adam算法，\n",
    "    optimizer = tf.train.AdamOptimizer(learning_rate=learning_rate).minimize(cost)\n",
    "    \n",
    "    # 定义初始化操作\n",
    "    init = tf.global_variables_initializer()\n",
    "\n",
    "    # 开始一个tensorflow的session\n",
    "    with tf.Session() as sess:\n",
    "        \n",
    "        # 执行初始化操作\n",
    "        sess.run(init)\n",
    "        \n",
    "        # 执行epochs指定的训练次数，一个epoch就是完整的向整个数据集学习一次\n",
    "        for epoch in range(num_epochs):\n",
    "\n",
    "            epoch_cost = 0.                       \n",
    "            num_minibatches = int(m / minibatch_size) # 计算有多少个子训练集\n",
    "            seed = seed + 1\n",
    "            # 将数据集分成若干子训练集\n",
    "            minibatches = random_mini_batches(X_train, Y_train, minibatch_size, seed)\n",
    "\n",
    "            # 循环遍历每一个子训练集\n",
    "            for minibatch in minibatches:\n",
    "\n",
    "                (minibatch_X, minibatch_Y) = minibatch\n",
    "                \n",
    "                # 这行代码会使整个计算图被执行，从前向传播操作到反向传播操作，最后到参数更新操作。\n",
    "                _ , minibatch_cost = sess.run([optimizer, cost], feed_dict={X: minibatch_X, Y: minibatch_Y})\n",
    "                                \n",
    "                epoch_cost += minibatch_cost / num_minibatches\n",
    "\n",
    "            if print_cost == True and epoch % 100 == 0:\n",
    "                print (\"Cost after epoch %i: %f\" % (epoch, epoch_cost))\n",
    "            if print_cost == True and epoch % 5 == 0:\n",
    "                costs.append(epoch_cost)\n",
    "                \n",
    "        # 画出cost成本的走势图\n",
    "        plt.plot(np.squeeze(costs))\n",
    "        plt.ylabel('cost')\n",
    "        plt.xlabel('iterations (per tens)')\n",
    "        plt.title(\"Learning rate =\" + str(learning_rate))\n",
    "        plt.show()\n",
    "\n",
    "        # 从计算图中获取训练好了的参数，后面我们就可以用这些参数来识别手语了！\n",
    "        parameters = sess.run(parameters)\n",
    "        print(\"Parameters have been trained!\")\n",
    "\n",
    "        # 分别计算一下在训练集和测试集上面的预测精准度\n",
    "        correct_prediction = tf.equal(tf.argmax(Z3), tf.argmax(Y))\n",
    "        accuracy = tf.reduce_mean(tf.cast(correct_prediction, \"float\"))\n",
    "        print(\"Train Accuracy:\", accuracy.eval({X: X_train, Y: Y_train}))\n",
    "        print(\"Test Accuracy:\", accuracy.eval({X: X_test, Y: Y_test}))\n",
    "        \n",
    "        return parameters"
   ]
  },
  {
   "cell_type": "markdown",
   "metadata": {},
   "source": [
    "运行下面的代码来训练我们的模型吧！它可能要运行个5分钟左右。这已经算时间短了，因为我们只使用了一小部分手语数据集，如果用完整的数据集，那就时间很长了~~"
   ]
  },
  {
   "cell_type": "code",
   "execution_count": null,
   "metadata": {},
   "outputs": [
    {
     "name": "stdout",
     "output_type": "stream",
     "text": [
      "Cost after epoch 0: 1.855702\n",
      "Cost after epoch 100: 1.016458\n",
      "Cost after epoch 200: 0.733102\n"
     ]
    }
   ],
   "source": [
    "parameters = model(X_train, Y_train, X_test, Y_test)"
   ]
  },
  {
   "cell_type": "markdown",
   "metadata": {},
   "source": [
    "结果还不错！用这么一个小程序就可以让手语识别的准确度达到了71.7%。"
   ]
  },
  {
   "cell_type": "markdown",
   "metadata": {},
   "source": [
    "### 识别你的手势\n",
    "\n",
    "模型我们已经训练好了，用下面的代码你可以用自己的手测试一下。你做个0到5的手势，然后用手机拍下来，将图片的名字改为thumbs_up.jpg,然后用它替换掉本文档同目录下面的images文件夹里面的thumbs_up.jpg。\n",
    "\n",
    "注意！运行下面代码可能会出现找不到PIL的错误，你需要在anaconda prompt里面执行activate tensorflow，然后再执行pip install Pillow来安装PIL。然后重启jupyter notebook，重新运行所有代码单元。"
   ]
  },
  {
   "cell_type": "code",
   "execution_count": null,
   "metadata": {
    "scrolled": true
   },
   "outputs": [],
   "source": [
    "import scipy\n",
    "from PIL import Image\n",
    "from scipy import ndimage\n",
    "\n",
    "my_image = \"thumbs_up.jpg\"\n",
    "\n",
    "fname = \"images/\" + my_image\n",
    "image = np.array(plt.imread(fname))\n",
    "my_image = scipy.misc.imresize(image, size=(64, 64)).reshape((1, 64 * 64 * 3)).T\n",
    "my_image_prediction = predict(my_image, parameters)\n",
    "\n",
    "plt.imshow(image)\n",
    "print(\"Your algorithm predicts: y = \" + str(np.squeeze(my_image_prediction)))"
   ]
  },
  {
   "cell_type": "markdown",
   "metadata": {},
   "source": [
    "如果你看不懂本篇文章，那么你需要学习我教程前面的文章。\n",
    "\n",
    "本篇文章还只是构建了一个简单的人工智能程序，后面我会带领大家构建更加强大的AI程序！"
   ]
  }
 ],
 "metadata": {
  "coursera": {
   "course_slug": "deep-neural-network",
   "graded_item_id": "BFd89",
   "launcher_item_id": "AH2rK"
  },
  "kernelspec": {
   "display_name": "Python 3",
   "language": "python",
   "name": "python3"
  },
  "language_info": {
   "codemirror_mode": {
    "name": "ipython",
    "version": 3
   },
   "file_extension": ".py",
   "mimetype": "text/x-python",
   "name": "python",
   "nbconvert_exporter": "python",
   "pygments_lexer": "ipython3",
   "version": "3.5.2"
  }
 },
 "nbformat": 4,
 "nbformat_minor": 4
}
